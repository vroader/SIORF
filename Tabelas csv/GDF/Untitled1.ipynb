{
 "cells": [
  {
   "cell_type": "code",
   "execution_count": null,
   "metadata": {},
   "outputs": [],
   "source": [
    "import csv\n",
    "import MySQLdb\n",
    "\n",
    "mydb = MySQLdb.connect(host=\"mysql.siorf.kinghost.net\",\n",
    "    user='siorf',\n",
    "    passwd='PMseis06',\n",
    "    db='siorf')\n",
    "cursor = mydb.cursor()\n",
    "\n",
    "with open('brazil-microcephaly-2016-01-23-table-1.csv', 'r') as csvfile:\n",
    "    zikareader = csv.reader(csvfile, delimiter =' ', quotechar ='|')\n",
    "    zikareader = csv.reader(file('brazil-microcephaly-2016-01-23-table-1.csv'))\n",
    "    for row in zikareader:\n",
    "        print('-'.join(row))\n",
    "    cursor.execute('INSERT INTO testcsv(no, \\\n",
    "        state, cases_under_investigation, cases_confirmed, cases_discarded, cases_reported_total)' \\\n",
    "        'VALUES(\"%s\", \"%s\", \"%s\",\"%s\", \"%s\", \"%s\")', row)\n",
    "\n",
    "    mydb.commit()\n",
    "    cursor.close()\n",
    "    print \"Done\""
   ]
  }
 ],
 "metadata": {
  "kernelspec": {
   "display_name": "Python 3",
   "language": "python",
   "name": "python3"
  },
  "language_info": {
   "codemirror_mode": {
    "name": "ipython",
    "version": 3
   },
   "file_extension": ".py",
   "mimetype": "text/x-python",
   "name": "python",
   "nbconvert_exporter": "python",
   "pygments_lexer": "ipython3",
   "version": "3.8.5"
  }
 },
 "nbformat": 4,
 "nbformat_minor": 4
}
